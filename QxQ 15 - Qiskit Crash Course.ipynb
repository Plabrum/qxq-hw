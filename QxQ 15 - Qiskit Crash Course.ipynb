{
 "cells": [
  {
   "cell_type": "markdown",
   "metadata": {},
   "source": [
    "<div style=\"text-align: center; margin: 50px\">\n",
    "\n",
    "<h1 style=\"color: darkblue; background-color: white; text-align: center;\">Qubit by Qubit - Semester 2</h1>\n",
    "<h3> Getting Started with Notebooks and Qiskit - Lab 15<h3>\n",
    "\n",
    "</div>"
   ]
  },
  {
   "cell_type": "markdown",
   "metadata": {},
   "source": [
    "If this is your first time using IPython notebooks, the basic controls are:\n",
    "1. Run a cell with `shift enter`\n",
    "2. Enter cell edit mode `enter`, escape cell edit with `esc` (escape key)\n",
    "4. Add a cell above `a` or below `b` (must exit edit mode first)\n",
    "5. Delete a cell with `dd`\n",
    "\n",
    "### Let's install qiskit!"
   ]
  },
  {
   "cell_type": "code",
   "execution_count": 1,
   "metadata": {},
   "outputs": [],
   "source": [
    "# First we can try to import all the modules, this may take a minute or two\n",
    "try:\n",
    "    import qiskit as q\n",
    "    from qutip import *\n",
    "    import matplotlib as plt\n",
    "    from qiskit.tools.monitor import job_monitor\n",
    "except ImportError as e:\n",
    "    # one of the modules was not installed, we can pip install the remaining modules\n",
    "    !pip install -r requirements.txt\n",
    "    try:\n",
    "        import qiskit as q\n",
    "        from qutip import *\n",
    "        import matplotlib as plt\n",
    "        from qiskit.tools.monitor import job_monitor\n",
    "    except ImportError as e:\n",
    "        # Modules cannot be imported after pip install\n",
    "        print(\"Looks like the modules cannot be found!\")"
   ]
  },
  {
   "cell_type": "markdown",
   "metadata": {},
   "source": [
    "### Now let's create an IBM Q experience account\n",
    "\n",
    "Create an IBMid account:  [Create an IBMid](https://www.ibm.com/account/reg/signup?formid=urx-19776&target=https%3A%2F%2Fidaas.iam.ibm.com%2Fidaas%2Foidc%2Fendpoint%2Fdefault%2Fauthorize%3Fscope%3Dopenid%26response_type%3Dcode%26state%3D20200917-3ae94ed4-ab42-46c0-8e06-36fb6258e42e-3fcc2%26redirect_uri%3Dhttps%253A%252F%252Fidaas-us01a.ice.ibmcloud.com%252Fidaas%252Fmtfim%252Fsps%252Fidaas%252Flogin%252Fibmid%252Fredirect%26client_id%3DCICProdClient1)\n",
    "\n",
    "Login to the IBM Q experience:  [IBM Quantum Experience](https://quantum-computing.ibm.com/)\n",
    "\n",
    "### Go to the account section:\n",
    "\n",
    "<img src=\"https://raw.githubusercontent.com/Plabrum/qxq-hw/master/images/go_account.png\" style=\"width: 800px\">\n",
    "\n",
    "### Copy the token:\n",
    "\n",
    "<img src=\"https://raw.githubusercontent.com/Plabrum/qxq-hw/master/images/get_token.png\" style=\"width: 800px\">"
   ]
  },
  {
   "cell_type": "code",
   "execution_count": 2,
   "metadata": {},
   "outputs": [],
   "source": [
    "\n",
    "import qiskit as q"
   ]
  },
  {
   "cell_type": "code",
   "execution_count": null,
   "metadata": {},
   "outputs": [],
   "source": [
    "# Put your token as a string here:\n",
    "token = \"\""
   ]
  },
  {
   "cell_type": "code",
   "execution_count": 4,
   "metadata": {},
   "outputs": [
    {
     "name": "stderr",
     "output_type": "stream",
     "text": [
      "configrc.store_credentials:WARNING:2020-09-17 13:21:32,638: Credentials already present. Set overwrite=True to overwrite.\n"
     ]
    }
   ],
   "source": [
    "## Now let's connect the account key into qiskit\n",
    "q.IBMQ.save_account(token)\n",
    "q.IBMQ.load_account()\n",
    "provider = q.IBMQ.get_provider('ibm-q')"
   ]
  },
  {
   "cell_type": "markdown",
   "metadata": {},
   "source": [
    "## Create a simple quantum circuit!"
   ]
  },
  {
   "cell_type": "code",
   "execution_count": 15,
   "metadata": {},
   "outputs": [
    {
     "data": {
      "image/png": "[encoded data removed]",
      "text/plain": [
       "<Figure size 418.992x204.68 with 1 Axes>"
      ]
     },
     "execution_count": 15,
     "metadata": {},
     "output_type": "execute_result"
    }
   ],
   "source": [
    "# Create a Quantum Circuit acting on the q register\n",
    "circuit = q.QuantumCircuit(2, 2)\n",
    "circuit.h(0)\n",
    "circuit.cx(0, 1)\n",
    "circuit.measure([0,1], [0,1])\n",
    "circuit.draw(output=\"mpl\")"
   ]
  },
  {
   "cell_type": "markdown",
   "metadata": {},
   "source": [
    "## Let's run the circuit on the simulator first!\n",
    "This will simulate running the above circuit on a quantum computer"
   ]
  },
  {
   "cell_type": "code",
   "execution_count": 16,
   "metadata": {},
   "outputs": [
    {
     "data": {
      "image/png": "[encoded data removed]",
      "text/plain": [
       "<Figure size 504x360 with 1 Axes>"
      ]
     },
     "execution_count": 16,
     "metadata": {},
     "output_type": "execute_result"
    }
   ],
   "source": [
    "simulator = q.Aer.get_backend('qasm_simulator')\n",
    "job = q.execute(circuit, simulator, shots=1000)\n",
    "result = job.result()\n",
    "counts = result.get_counts(circuit)\n",
    "q.visualization.plot_histogram(counts)"
   ]
  },
  {
   "cell_type": "markdown",
   "metadata": {},
   "source": [
    "## Now we can run the same circuit on an acutal quantum computer\n",
    "\n",
    "As the larger computers often have sizeable queues, I use this helper function to find the computer with the shortest wait."
   ]
  },
  {
   "cell_type": "code",
   "execution_count": 17,
   "metadata": {},
   "outputs": [],
   "source": [
    "def soonest_backend(nqbits, print_backends=False):\n",
    "    status = []\n",
    "    for backend in provider.backends():\n",
    "        try:\n",
    "            qubit_count = len(backend.properties().qubits)\n",
    "        except:\n",
    "            qubit_count = 0\n",
    "        if print_backends:\n",
    "            print(f\"{backend.name()} has {backend.status().pending_jobs} queued and {qubit_count} qubits\")\n",
    "        status.append((backend.name(), qubit_count, backend.status().pending_jobs))\n",
    "    \n",
    "    min_queue = min([comp[2] for comp in status if (int(comp[1]) >= nqbits)])\n",
    "    for cp in status:\n",
    "        if cp[2] == min_queue:\n",
    "            return cp[0]"
   ]
  },
  {
   "cell_type": "markdown",
   "metadata": {},
   "source": [
    "## Find machine and request job to be executed"
   ]
  },
  {
   "cell_type": "code",
   "execution_count": 23,
   "metadata": {},
   "outputs": [
    {
     "name": "stdout",
     "output_type": "stream",
     "text": [
      "Using backend: ibmq_qasm_simulator\n",
      "Job Status: job has successfully run\n"
     ]
    }
   ],
   "source": [
    "# As our circuit needs 2 qubits, our soonest_backend function will take a min of 2\n",
    "machine = soonest_backend(2)\n",
    "print(f\"Using backend: {machine}\")\n",
    "backend = provider.get_backend(machine)\n",
    "job = q.execute(circuit, backend=backend, shots=500)\n",
    "job_monitor(job)"
   ]
  },
  {
   "cell_type": "markdown",
   "metadata": {},
   "source": [
    "## Once the job has run you can dislay the results in a histogram"
   ]
  },
  {
   "cell_type": "code",
   "execution_count": 22,
   "metadata": {},
   "outputs": [
    {
     "data": {
      "image/png": "[encoded data removed]",
      "text/plain": [
       "<Figure size 504x360 with 1 Axes>"
      ]
     },
     "execution_count": 22,
     "metadata": {},
     "output_type": "execute_result"
    }
   ],
   "source": [
    "result = job.result()\n",
    "counts = result.get_counts(circuit)\n",
    "\n",
    "q.visualization.plot_histogram([counts], legend=[machine])"
   ]
  }
 ],
 "metadata": {
  "kernelspec": {
   "display_name": "Python 3",
   "language": "python",
   "name": "python3"
  },
  "language_info": {
   "codemirror_mode": {
    "name": "ipython",
    "version": 3
   },
   "file_extension": ".py",
   "mimetype": "text/x-python",
   "name": "python",
   "nbconvert_exporter": "python",
   "pygments_lexer": "ipython3",
   "version": "3.8.4"
  }
 },
 "nbformat": 4,
 "nbformat_minor": 4
}
