{
 "cells": [
  {
   "cell_type": "markdown",
   "metadata": {
    "id": "Ve4k8M4oUiJg"
   },
   "source": [
    "<div style=\"text-align: center; margin: 50px\">\n",
    "\n",
    "<h1 style=\"color: darkblue; background-color: white; text-align: center;\">Qubit by Qubit - Semester 2</h1>\n",
    "<h3>Quantum Teleporation Lab 20</h3>\n",
    "</div>"
   ]
  },
  {
   "cell_type": "markdown",
   "metadata": {
    "id": "4LDTjqwgUiJj"
   },
   "source": [
    "Quantum Mechanics allows to do some super cool things! One of those is quantum teleportation. This phenomenon ties into the no-cloning theorem, another interesting part of quantum mechanics!\n",
    "\n",
    "First let's clarify what is being teleported - we are transfering a quantum state rather than an object of any kind. Without measuring $|\\Psi \\rangle$ we can transfer $|\\Psi \\rangle$ from Alice to Bob without copying (cloning) the state $|\\Psi \\rangle$ at any time"
   ]
  },
  {
   "cell_type": "code",
   "execution_count": null,
   "metadata": {
    "id": "p6u4p3zUUiJl"
   },
   "outputs": [],
   "source": [
    "import qiskit as q"
   ]
  },
  {
   "cell_type": "markdown",
   "metadata": {
    "id": "-BaqV46gvYdi"
   },
   "source": [
    "## Question 1: Quantum teleportation pre-requisites\n",
    "\n",
    "A quantum register is a collection of multiple qubits. They make the creation of quantum circuits easier. Let's learn how to make them!\n",
    "\n",
    "#### 1 a) Create a quantum register named qr with 2 qubits"
   ]
  },
  {
   "cell_type": "code",
   "execution_count": null,
   "metadata": {
    "id": "jTiAJewIzA4c"
   },
   "outputs": [],
   "source": [
    "#Solution\n",
    "qr=q.QuantumRegister(2)"
   ]
  },
  {
   "cell_type": "markdown",
   "metadata": {
    "id": "HR-3uMLNzYRU"
   },
   "source": [
    "#### 1 b) Create a quantum register named qr with 3 qubits, and give it a label 'q'"
   ]
  },
  {
   "cell_type": "code",
   "execution_count": null,
   "metadata": {
    "id": "KnnR0k-Zz5Dz"
   },
   "outputs": [],
   "source": [
    "qr=q.QuantumRegister(3,'q')"
   ]
  },
  {
   "cell_type": "markdown",
   "metadata": {
    "id": "z4mbj1ms0D9U"
   },
   "source": [
    "Similar to a quantum register, a classical register is a collection of multiple classical bits. \n",
    "\n",
    "#### 1 c) Create a classical register named cr with 2 classical bits, and give it a label 'c'"
   ]
  },
  {
   "cell_type": "code",
   "execution_count": null,
   "metadata": {
    "id": "7a7X-Kcc0Ts0"
   },
   "outputs": [],
   "source": [
    "cr = q.ClassicalRegister(2, 'c')"
   ]
  },
  {
   "cell_type": "markdown",
   "metadata": {
    "id": "FQGl7NKC0knM"
   },
   "source": [
    "Now that we know how to create classical and quantum registers, let's make a circuit with them! \n",
    "\n",
    "#### 1 d) Create a quantum circuit named qc, with a quantum register named qr with 2 qubits and a classical register named cr with 1 classical bit."
   ]
  },
  {
   "cell_type": "code",
   "execution_count": null,
   "metadata": {
    "id": "ne4pnbv801cJ"
   },
   "outputs": [],
   "source": [
    "qr = q.QuantumRegister(2, 'q')\n",
    "cr = q.ClassicalRegister(1, 'c')\n",
    "qc = q.QuantumCircuit(qr, cr)\n",
    "qxq1d = qc"
   ]
  },
  {
   "cell_type": "markdown",
   "metadata": {
    "id": "zddtA-eV2TYm"
   },
   "source": [
    "Next, let's add a measurement\n",
    "\n",
    "#### 1 e) In the quantum circuit qr from the previous question, measure the state of qubit 0 and record it onto the classical bit"
   ]
  },
  {
   "cell_type": "code",
   "execution_count": null,
   "metadata": {
    "colab": {
     "base_uri": "https://localhost:8080/",
     "height": 185
    },
    "executionInfo": {
     "elapsed": 372,
     "status": "ok",
     "timestamp": 1605023669337,
     "user": {
      "displayName": "Akshay Agarwal",
      "photoUrl": "",
      "userId": "05018767796152976477"
     },
     "user_tz": 300
    },
    "id": "l1--lGD52lZb",
    "outputId": "bce4ed03-7058-489f-d5ba-98615f0b8bc6"
   },
   "outputs": [
    {
     "data": {
      "image/png": "[encoded data removed]",
      "text/plain": [
       "<Figure size 86.452x204.68 with 1 Axes>"
      ]
     },
     "metadata": {
      "tags": []
     },
     "output_type": "display_data"
    }
   ],
   "source": [
    "qc.measure(0,0)\n",
    "display(tc.draw(output=\"mpl\"))\n",
    "qxq1e = qc"
   ]
  },
  {
   "cell_type": "markdown",
   "metadata": {
    "id": "IRZIu7-I1bBe"
   },
   "source": [
    "The last pre-requisite we want to implement are conditional gates. \n",
    "\n",
    "#### 1 f) In the quantum circuit qc from the previous question, add a z gate on q1 if q0 is measured to be in state 0"
   ]
  },
  {
   "cell_type": "code",
   "execution_count": null,
   "metadata": {
    "colab": {
     "base_uri": "https://localhost:8080/",
     "height": 185
    },
    "executionInfo": {
     "elapsed": 442,
     "status": "ok",
     "timestamp": 1605023671481,
     "user": {
      "displayName": "Akshay Agarwal",
      "photoUrl": "",
      "userId": "05018767796152976477"
     },
     "user_tz": 300
    },
    "id": "Ijt0Q16K2_cP",
    "outputId": "d98ab847-29e4-4bdc-d48e-ba36f368622c"
   },
   "outputs": [
    {
     "data": {
      "image/png": "[encoded data removed]",
      "text/plain": [
       "<Figure size 86.452x204.68 with 1 Axes>"
      ]
     },
     "metadata": {
      "tags": []
     },
     "output_type": "display_data"
    }
   ],
   "source": [
    "qc.z(1).c_if(cr,0)\n",
    "display(tc.draw(output=\"mpl\"))\n",
    "qxq1f = qc"
   ]
  },
  {
   "cell_type": "markdown",
   "metadata": {
    "id": "JMSn-HH_UiJt"
   },
   "source": [
    "## Question 2: How to teleport!\n",
    "\n",
    "In order to teleport the state $|\\Psi \\rangle$, we must create an entagled pair of qubits and give one of the qubits to each of Alice and Bob.\n",
    "\n",
    "Let's initialise our teleportation circuit, we will need three qubits and two classical bits:"
   ]
  },
  {
   "cell_type": "code",
   "execution_count": null,
   "metadata": {
    "id": "bkYTDDeRUiJu"
   },
   "outputs": [],
   "source": [
    "qr = q.QuantumRegister(3, 'q')\n",
    "cr_0 = q.ClassicalRegister(1, 'c0')\n",
    "cr_1 = q.ClassicalRegister(1, 'c1')\n",
    "# For this we will need access to both the classical and quantum registers \n",
    "tc = q.QuantumCircuit(qr, cr_0, cr_1)"
   ]
  },
  {
   "cell_type": "markdown",
   "metadata": {
    "id": "C-rovhXqUiJ5"
   },
   "source": [
    "Now that we have our three qubits, and two classical bits, we can define the qubit $q_0$ to hold the state $|\\Psi \\rangle$ that we want to send and the qubit $q_1$ to belong to Alice and $q_2$ to belong to bob."
   ]
  },
  {
   "cell_type": "markdown",
   "metadata": {
    "id": "2xjaFzAzUiJ6"
   },
   "source": [
    "In the last homeworkd we asked you to create multiple Bell states. \n",
    "\n",
    "Using the circuit defined above, create an  the $|\\Phi^+\\rangle$ state between the $q_1$ and $q_2$ qubits, where:\n",
    "\n",
    "$$\n",
    "| \\Phi^+ \\rangle = \\frac{1}{\\sqrt{2}}(|00\\rangle + |11\\rangle\n",
    "$$"
   ]
  },
  {
   "cell_type": "code",
   "execution_count": null,
   "metadata": {
    "colab": {
     "base_uri": "https://localhost:8080/",
     "height": 276
    },
    "executionInfo": {
     "elapsed": 888,
     "status": "ok",
     "timestamp": 1605021195387,
     "user": {
      "displayName": "Akshay Agarwal",
      "photoUrl": "",
      "userId": "05018767796152976477"
     },
     "user_tz": 300
    },
    "id": "otjDjzLFUiJ7",
    "outputId": "4f2c41a7-0a3c-44b4-d951-8dd169a618aa"
   },
   "outputs": [
    {
     "data": {
      "image/png": "[encoded data removed]",
      "text/plain": [
       "<Figure size 206.997x325.08 with 1 Axes>"
      ]
     },
     "metadata": {
      "tags": []
     },
     "output_type": "display_data"
    }
   ],
   "source": [
    "# Solution\n",
    "tc.h(1)\n",
    "tc.cx(1,2)\n",
    "display(tc.draw(output=\"mpl\"))\n",
    "\n",
    "# Submit solution\n",
    "qxq_q1a = tc"
   ]
  },
  {
   "cell_type": "markdown",
   "metadata": {
    "id": "o_6dcJSJUiKA"
   },
   "source": [
    "From here, we give the $q_1$ to Alice and $q_2$ to Bob.\n",
    "\n",
    "Alice now can apply a CNOT gate to $q_1$ controlled by the $q_0$ qubit.\n",
    "\n",
    "Add those gates into the circuit and display the circuit"
   ]
  },
  {
   "cell_type": "code",
   "execution_count": null,
   "metadata": {
    "id": "T8tCTTyNUiKA",
    "outputId": "41fed580-e4a3-4bca-be22-3806697d2f51"
   },
   "outputs": [
    {
     "data": {
      "image/png": "[encoded data removed]",
      "text/plain": [
       "<Figure size 358.792x325.08 with 1 Axes>"
      ]
     },
     "metadata": {
      "tags": []
     },
     "output_type": "display_data"
    }
   ],
   "source": [
    "# Solution\n",
    "tc.cx(0,1)\n",
    "display(tc.draw(output=\"mpl\"))\n",
    "\n",
    "# Submit solution\n",
    "qxq_q1b = tc"
   ]
  },
  {
   "cell_type": "markdown",
   "metadata": {
    "id": "CdBUYc2sUiKG"
   },
   "source": [
    "Alice can now measure both of her qubits and record the states in the two classical bits that she has.\n",
    "\n",
    "Add this into your circuit too!"
   ]
  },
  {
   "cell_type": "code",
   "execution_count": null,
   "metadata": {
    "id": "4hIf8ruOUiKG",
    "outputId": "44a842ef-3b5d-43d6-e755-f0d49eef2306"
   },
   "outputs": [
    {
     "data": {
      "image/png": "[encoded data removed]",
      "text/plain": [
       "<Figure size 479.192x325.08 with 1 Axes>"
      ]
     },
     "metadata": {
      "tags": []
     },
     "output_type": "display_data"
    }
   ],
   "source": [
    "# Solution\n",
    "tc.measure(0,0)\n",
    "tc.measure(1,1)\n",
    "display(tc.draw(output=\"mpl\"))\n",
    "\n",
    "# Submit solution\n",
    "qxq_q1c = tc"
   ]
  },
  {
   "cell_type": "markdown",
   "metadata": {
    "id": "OBr3QhwhUiKJ"
   },
   "source": [
    "Now with only two bits of classical information, Bob can completely recreate the state of $| \\Psi \\rangle$ on his end!\n",
    "\n",
    "To do this he can follow the following format:\n",
    "\n",
    "If the first bit is 1, he applies a Z gate, if the second bit is 1 he applies an X gate.\n",
    "\n",
    "00 = Nothing\n",
    "\n",
    "01 = $X$ gate\n",
    "\n",
    "10 = $Z$ gate\n",
    "\n",
    "11 = $ZX$ gate"
   ]
  },
  {
   "cell_type": "markdown",
   "metadata": {
    "id": "_cYh-nLkUiKJ"
   },
   "source": [
    "We can do this using some qiskit shortcuts: "
   ]
  },
  {
   "cell_type": "code",
   "execution_count": null,
   "metadata": {
    "id": "8D9aJaUvUiKK",
    "outputId": "3188da9f-8537-4381-d298-c4d666e75f50"
   },
   "outputs": [
    {
     "data": {
      "image/png": "[encoded data removed]",
      "text/plain": [
       "<Figure size 659.792x325.08 with 1 Axes>"
      ]
     },
     "metadata": {
      "tags": []
     },
     "output_type": "display_data"
    }
   ],
   "source": [
    "tc.barrier() # Use barrier to separate steps\n",
    "tc.z(2).c_if(cr_0, 1)\n",
    "tc.x(2).c_if(cr_1, 1)\n",
    "display(tc.draw(output=\"mpl\"))"
   ]
  },
  {
   "cell_type": "markdown",
   "metadata": {
    "id": "7t5jyYcPUiKM"
   },
   "source": [
    "And now the original state $| \\Psi \\rangle $ which was first with Alice has now has been transfered to Bob!\n",
    "\n",
    "Let's run a simulation on the `statevector simulator` to show that a state get's copied from qubit $q_0$ to qubit $q_2$"
   ]
  },
  {
   "cell_type": "code",
   "execution_count": null,
   "metadata": {
    "id": "Rh7J9-POUiKM"
   },
   "outputs": [],
   "source": []
  },
  {
   "cell_type": "markdown",
   "metadata": {
    "id": "3epvznPa-Ene"
   },
   "source": [
    "# Question 3: Simulating Quantum Teleportation!\n",
    "Let's run a simulation on the `statevector simulator` to show that a state get's copied from qubit $q_0$ to qubit $q_2$\n",
    "\n",
    "We can use the Qiskit `random_state` generator to make a state $| \\Psi \\rangle$ for Alice that we can send to Bob. The `random_state(1)` generator takes a single argument that tells it the number of qubits over which to generate a random state."
   ]
  },
  {
   "cell_type": "code",
   "execution_count": null,
   "metadata": {
    "id": "ny2X9BXf-36c"
   },
   "outputs": [],
   "source": []
  }
 ],
 "metadata": {
  "colab": {
   "name": "Quantum Teleportation Homework.ipynb",
   "provenance": []
  },
  "kernelspec": {
   "display_name": "Python 3",
   "language": "python",
   "name": "python3"
  },
  "language_info": {
   "codemirror_mode": {
    "name": "ipython",
    "version": 3
   },
   "file_extension": ".py",
   "mimetype": "text/x-python",
   "name": "python",
   "nbconvert_exporter": "python",
   "pygments_lexer": "ipython3",
   "version": "3.8.4"
  }
 },
 "nbformat": 4,
 "nbformat_minor": 1
}
